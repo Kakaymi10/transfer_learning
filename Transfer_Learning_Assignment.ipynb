{
  "nbformat": 4,
  "nbformat_minor": 0,
  "metadata": {
    "colab": {
      "provenance": [],
      "gpuType": "T4"
    },
    "kernelspec": {
      "name": "python3",
      "display_name": "Python 3"
    },
    "language_info": {
      "name": "python"
    },
    "accelerator": "GPU"
  },
  "cells": [
    {
      "cell_type": "markdown",
      "source": [
        "#Transfert Leraning Formative"
      ],
      "metadata": {
        "id": "1h6hUzA9SMzz"
      }
    },
    {
      "cell_type": "markdown",
      "source": [],
      "metadata": {
        "id": "gsnx8Y8p81Oy"
      }
    },
    {
      "cell_type": "markdown",
      "source": [
        "In this notbook, we are experimenting  transfer learning using pre-trained models (VGG16, ResNet50, and InceptionV3) applied to healthcare (enhancing healthcare infrastructure in Chad with AI). The dataset used in this example is from ISIC Skin Lesion Dataset"
      ],
      "metadata": {
        "id": "S_4wvlz8SSVH"
      }
    },
    {
      "cell_type": "markdown",
      "source": [
        "## Mission and GCGOs (Great Challenges and Great Opportunities)"
      ],
      "metadata": {
        "id": "7NU8PWJWSm52"
      }
    },
    {
      "cell_type": "markdown",
      "source": [
        "**Mission**: Using AI to enhance high-tech infrastructure in Chad by improving healthcare and education systems."
      ],
      "metadata": {
        "id": "la4JygdJSstI"
      }
    },
    {
      "cell_type": "markdown",
      "source": [
        "**Great Challenges and Great Opportunities (GCGOs):**\n",
        "\n",
        "**Infrastructure**: Chad faces challenges in developing modern infrastructure for healthcare, which AI can help overcome.\n",
        "\n",
        "**Healthcare**: Leveraging AI to improve diagnostic accuracy and efficiency in healthcare.\n",
        "\n",
        "**Education**: Using AI to provide personalized and scalable educational tools."
      ],
      "metadata": {
        "id": "tk2zD8QoSzk0"
      }
    },
    {
      "cell_type": "markdown",
      "source": [
        "# Importing necessary libraries\n"
      ],
      "metadata": {
        "id": "7stwNCq7S-ue"
      }
    },
    {
      "cell_type": "code",
      "execution_count": null,
      "metadata": {
        "id": "OektkWgfSMEd"
      },
      "outputs": [],
      "source": [
        "# Importing necessary libraries\n",
        "import tensorflow as tf\n",
        "from tensorflow.keras.preprocessing.image import ImageDataGenerator\n",
        "from tensorflow.keras.applications import VGG16, ResNet50, InceptionV3\n",
        "from tensorflow.keras.layers import Dense, GlobalAveragePooling2D, Dropout\n",
        "from tensorflow.keras.models import Model\n",
        "from tensorflow.keras.optimizers import Adam\n",
        "import os\n",
        "from sklearn.metrics import classification_report, confusion_matrix\n",
        "import matplotlib.pyplot as plt\n",
        "import numpy as np\n"
      ]
    },
    {
      "cell_type": "markdown",
      "source": [
        "# Downloading dataset from Kaggle"
      ],
      "metadata": {
        "id": "Qeibb1aETQy8"
      }
    },
    {
      "cell_type": "code",
      "source": [
        "\n",
        "!pip install kaggle"
      ],
      "metadata": {
        "colab": {
          "base_uri": "https://localhost:8080/"
        },
        "id": "3pXkxy_ITGg8",
        "outputId": "e2aa9c06-7042-4d5b-d860-95a895b37b9c"
      },
      "execution_count": null,
      "outputs": [
        {
          "output_type": "stream",
          "name": "stdout",
          "text": [
            "Requirement already satisfied: kaggle in /usr/local/lib/python3.10/dist-packages (1.6.17)\n",
            "Requirement already satisfied: six>=1.10 in /usr/local/lib/python3.10/dist-packages (from kaggle) (1.16.0)\n",
            "Requirement already satisfied: certifi>=2023.7.22 in /usr/local/lib/python3.10/dist-packages (from kaggle) (2024.8.30)\n",
            "Requirement already satisfied: python-dateutil in /usr/local/lib/python3.10/dist-packages (from kaggle) (2.8.2)\n",
            "Requirement already satisfied: requests in /usr/local/lib/python3.10/dist-packages (from kaggle) (2.32.3)\n",
            "Requirement already satisfied: tqdm in /usr/local/lib/python3.10/dist-packages (from kaggle) (4.66.5)\n",
            "Requirement already satisfied: python-slugify in /usr/local/lib/python3.10/dist-packages (from kaggle) (8.0.4)\n",
            "Requirement already satisfied: urllib3 in /usr/local/lib/python3.10/dist-packages (from kaggle) (2.0.7)\n",
            "Requirement already satisfied: bleach in /usr/local/lib/python3.10/dist-packages (from kaggle) (6.1.0)\n",
            "Requirement already satisfied: webencodings in /usr/local/lib/python3.10/dist-packages (from bleach->kaggle) (0.5.1)\n",
            "Requirement already satisfied: text-unidecode>=1.3 in /usr/local/lib/python3.10/dist-packages (from python-slugify->kaggle) (1.3)\n",
            "Requirement already satisfied: charset-normalizer<4,>=2 in /usr/local/lib/python3.10/dist-packages (from requests->kaggle) (3.3.2)\n",
            "Requirement already satisfied: idna<4,>=2.5 in /usr/local/lib/python3.10/dist-packages (from requests->kaggle) (3.8)\n"
          ]
        }
      ]
    },
    {
      "cell_type": "code",
      "source": [
        "# Assuming you have your Kaggle API key already uploaded as 'kaggle.json'\n",
        "!mkdir -p ~/.kaggle\n",
        "!cp kaggle.json ~/.kaggle/\n",
        "!chmod 600 ~/.kaggle/kaggle.json"
      ],
      "metadata": {
        "id": "05VBtJDYTXym"
      },
      "execution_count": null,
      "outputs": []
    },
    {
      "cell_type": "code",
      "source": [
        "# Download ISIC Skin Lesion Dataset (or any other relevant healthcare dataset)\n",
        "!kaggle datasets download -d kmader/skin-cancer-mnist-ham10000 --unzip -p /content/data"
      ],
      "metadata": {
        "colab": {
          "base_uri": "https://localhost:8080/"
        },
        "id": "gm3-8wNMUTxk",
        "outputId": "977c9a46-7f07-4e17-ca9f-241898e1e65e"
      },
      "execution_count": null,
      "outputs": [
        {
          "output_type": "stream",
          "name": "stdout",
          "text": [
            "Dataset URL: https://www.kaggle.com/datasets/kmader/skin-cancer-mnist-ham10000\n",
            "License(s): CC-BY-NC-SA-4.0\n",
            "Downloading skin-cancer-mnist-ham10000.zip to /content/data\n",
            "100% 5.20G/5.20G [02:55<00:00, 30.8MB/s]\n",
            "100% 5.20G/5.20G [02:55<00:00, 31.9MB/s]\n"
          ]
        }
      ]
    },
    {
      "cell_type": "code",
      "source": [
        "!ls /content/data"
      ],
      "metadata": {
        "colab": {
          "base_uri": "https://localhost:8080/"
        },
        "id": "df2oyO3qWOdv",
        "outputId": "84c78006-26e6-4c65-cbb1-2af2d00d2b68"
      },
      "execution_count": null,
      "outputs": [
        {
          "output_type": "stream",
          "name": "stdout",
          "text": [
            "ham10000_images_part_1\tHAM10000_images_part_2\thmnist_28_28_RGB.csv\n",
            "HAM10000_images_part_1\tHAM10000_metadata.csv\thmnist_8_8_L.csv\n",
            "ham10000_images_part_2\thmnist_28_28_L.csv\thmnist_8_8_RGB.csv\n"
          ]
        }
      ]
    },
    {
      "cell_type": "code",
      "source": [
        "import pandas as pd\n",
        "\n",
        "# Load metadata CSV\n",
        "# Added leading forward slash to the path\n",
        "metadata = pd.read_csv('/content/data/HAM10000_metadata.csv')\n",
        "print(metadata.head())  # Check the first few rows\n"
      ],
      "metadata": {
        "colab": {
          "base_uri": "https://localhost:8080/"
        },
        "id": "pHtgxzfOWuqu",
        "outputId": "1762d19c-351a-4292-a676-7ca92cf14c46"
      },
      "execution_count": null,
      "outputs": [
        {
          "output_type": "stream",
          "name": "stdout",
          "text": [
            "     lesion_id      image_id   dx dx_type   age   sex localization\n",
            "0  HAM_0000118  ISIC_0027419  bkl   histo  80.0  male        scalp\n",
            "1  HAM_0000118  ISIC_0025030  bkl   histo  80.0  male        scalp\n",
            "2  HAM_0002730  ISIC_0026769  bkl   histo  80.0  male        scalp\n",
            "3  HAM_0002730  ISIC_0025661  bkl   histo  80.0  male        scalp\n",
            "4  HAM_0001466  ISIC_0031633  bkl   histo  75.0  male          ear\n"
          ]
        }
      ]
    },
    {
      "cell_type": "code",
      "source": [
        "from sklearn.model_selection import train_test_split\n",
        "\n",
        "# Split data (80% train, 20% validation)\n",
        "train_df, val_df = train_test_split(metadata, test_size=0.2, stratify=metadata['dx'], random_state=42)\n"
      ],
      "metadata": {
        "id": "usxaA-wuXV6-"
      },
      "execution_count": null,
      "outputs": []
    },
    {
      "cell_type": "code",
      "source": [
        "import os\n",
        "import shutil\n",
        "\n",
        "# Directories for train and val sets\n",
        "base_dir = '/content/data/'\n",
        "train_dir = os.path.join(base_dir, 'train')\n",
        "val_dir = os.path.join(base_dir, 'val')\n",
        "\n",
        "# Create subdirectories for each diagnosis\n",
        "dx_classes = metadata['dx'].unique()\n",
        "\n",
        "for dx in dx_classes:\n",
        "    os.makedirs(os.path.join(train_dir, dx), exist_ok=True)\n",
        "    os.makedirs(os.path.join(val_dir, dx), exist_ok=True)\n",
        "\n",
        "# Function to copy images to the right folder\n",
        "def move_images(df, src_folder, dest_folder):\n",
        "    for index, row in df.iterrows():\n",
        "        file_name = row['image_id'] + '.jpg'\n",
        "        dx = row['dx']\n",
        "        src = os.path.join(src_folder, file_name)\n",
        "        dest = os.path.join(dest_folder, dx, file_name)\n",
        "\n",
        "        if os.path.exists(src):\n",
        "            shutil.copy(src, dest)\n",
        "\n",
        "# Move train images\n",
        "move_images(train_df, '/content/data/HAM10000_images_part_1', train_dir)\n",
        "\n",
        "\n",
        "# Move val images\n",
        "move_images(val_df, '/content/data/HAM10000_images_part_2', val_dir)\n",
        "\n"
      ],
      "metadata": {
        "id": "5qCQRC1BXgqV"
      },
      "execution_count": null,
      "outputs": []
    },
    {
      "cell_type": "markdown",
      "source": [],
      "metadata": {
        "id": "fK-8WI-zWMLQ"
      }
    },
    {
      "cell_type": "code",
      "source": [
        "# Path to the dataset\n",
        "train_dir = \"/content/data/train\"  # Adjust paths accordingly\n",
        "val_dir = \"/content/data/val\"\n"
      ],
      "metadata": {
        "id": "FmFFaWEvUYyb"
      },
      "execution_count": null,
      "outputs": []
    },
    {
      "cell_type": "markdown",
      "source": [
        "# Data Preprocessing using ImageDataGenerator"
      ],
      "metadata": {
        "id": "99rRMRMEU0hB"
      }
    },
    {
      "cell_type": "code",
      "source": [
        "\n",
        "# Data Preprocessing using ImageDataGenerator\n",
        "train_datagen = ImageDataGenerator(\n",
        "    rescale=1.0/255.0,\n",
        "    rotation_range=20,\n",
        "    width_shift_range=0.2,\n",
        "    height_shift_range=0.2,\n",
        "    shear_range=0.2,\n",
        "    zoom_range=0.2,\n",
        "    horizontal_flip=True,\n",
        "    fill_mode='nearest'\n",
        ")\n",
        "\n",
        "val_datagen = ImageDataGenerator(rescale=1.0/255.0)\n",
        "\n",
        "# Flow from directory with the previously split train/val directories\n",
        "train_generator = train_datagen.flow_from_directory(\n",
        "    train_dir,\n",
        "    target_size=(224, 224),\n",
        "    batch_size=32,\n",
        "    class_mode='categorical'\n",
        ")\n",
        "\n",
        "val_generator = val_datagen.flow_from_directory(\n",
        "    val_dir,\n",
        "    target_size=(224, 224),\n",
        "    batch_size=32,\n",
        "    class_mode='categorical'\n",
        ")\n",
        "\n",
        "\n"
      ],
      "metadata": {
        "colab": {
          "base_uri": "https://localhost:8080/"
        },
        "id": "TqVYULUCU3I1",
        "outputId": "e6d5c93b-418f-43c8-8b88-fdf51006f338"
      },
      "execution_count": null,
      "outputs": [
        {
          "output_type": "stream",
          "name": "stdout",
          "text": [
            "Found 4010 images belonging to 7 classes.\n",
            "Found 1013 images belonging to 7 classes.\n"
          ]
        }
      ]
    },
    {
      "cell_type": "markdown",
      "source": [
        "# Selecting Pre-trained Models (VGG16, ResNet50, InceptionV3)"
      ],
      "metadata": {
        "id": "fR9k8-ViVHkG"
      }
    },
    {
      "cell_type": "code",
      "source": [
        "\n",
        "pretrained_models = [\n",
        "    (\"VGG16\", VGG16(weights='imagenet', include_top=False, input_shape=(224, 224, 3))),\n",
        "    (\"ResNet50\", ResNet50(weights='imagenet', include_top=False, input_shape=(224, 224, 3))),\n",
        "    (\"InceptionV3\", InceptionV3(weights='imagenet', include_top=False, input_shape=(224, 224, 3)))\n",
        "]\n"
      ],
      "metadata": {
        "colab": {
          "base_uri": "https://localhost:8080/"
        },
        "id": "EvGdxFYCVFHm",
        "outputId": "4996734c-172e-422c-afd6-98085c9f72b7"
      },
      "execution_count": null,
      "outputs": [
        {
          "output_type": "stream",
          "name": "stdout",
          "text": [
            "Downloading data from https://storage.googleapis.com/tensorflow/keras-applications/vgg16/vgg16_weights_tf_dim_ordering_tf_kernels_notop.h5\n",
            "\u001b[1m58889256/58889256\u001b[0m \u001b[32m━━━━━━━━━━━━━━━━━━━━\u001b[0m\u001b[37m\u001b[0m \u001b[1m3s\u001b[0m 0us/step\n",
            "Downloading data from https://storage.googleapis.com/tensorflow/keras-applications/resnet/resnet50_weights_tf_dim_ordering_tf_kernels_notop.h5\n",
            "\u001b[1m94765736/94765736\u001b[0m \u001b[32m━━━━━━━━━━━━━━━━━━━━\u001b[0m\u001b[37m\u001b[0m \u001b[1m4s\u001b[0m 0us/step\n",
            "Downloading data from https://storage.googleapis.com/tensorflow/keras-applications/inception_v3/inception_v3_weights_tf_dim_ordering_tf_kernels_notop.h5\n",
            "\u001b[1m87910968/87910968\u001b[0m \u001b[32m━━━━━━━━━━━━━━━━━━━━\u001b[0m\u001b[37m\u001b[0m \u001b[1m4s\u001b[0m 0us/step\n"
          ]
        }
      ]
    },
    {
      "cell_type": "code",
      "source": [
        "import numpy as np\n",
        "import matplotlib.pyplot as plt\n",
        "\n",
        "from keras.applications import VGG16, ResNet50, InceptionV3\n",
        "from keras.models import Model\n",
        "from keras.layers import Dense, Dropout, GlobalAveragePooling2D\n",
        "from keras.optimizers import Adam\n",
        "from sklearn.metrics import classification_report, precision_score, recall_score, f1_score\n"
      ],
      "metadata": {
        "id": "9dkQ9EJRji_l"
      },
      "execution_count": null,
      "outputs": []
    },
    {
      "cell_type": "code",
      "source": [
        "results = {}\n",
        "histories = {}\n",
        "\n",
        "# Loop over pre-trained models\n",
        "for model_name, base_model in pretrained_models:\n",
        "    # Freeze base layers\n",
        "    for layer in base_model.layers:\n",
        "        layer.trainable = False\n",
        "\n",
        "    # Add custom layers on top of the base model\n",
        "    x = base_model.output\n",
        "    x = GlobalAveragePooling2D()(x)\n",
        "    x = Dense(1024, activation='relu')(x)\n",
        "    x = Dropout(0.5)(x)\n",
        "    predictions = Dense(train_generator.num_classes, activation='softmax')(x)\n",
        "\n",
        "    # Create final model\n",
        "    model = Model(inputs=base_model.input, outputs=predictions)\n",
        "\n",
        "    # Compile the model\n",
        "    model.compile(optimizer=Adam(learning_rate=1e-4), loss='categorical_crossentropy', metrics=['accuracy'])\n",
        "\n",
        "    # Train the model\n",
        "    history = model.fit(\n",
        "        train_generator,\n",
        "        epochs=5,\n",
        "        validation_data=val_generator,\n",
        "        verbose=1\n",
        "    )\n",
        "\n",
        "    # Store history for each model\n",
        "    histories[model_name] = history\n",
        "\n",
        "    # Evaluate the model\n",
        "    val_loss, val_accuracy = model.evaluate(val_generator)\n",
        "\n",
        "    # Save the results\n",
        "    results[model_name] = {\n",
        "        \"Accuracy\": val_accuracy,\n",
        "        \"Loss\": val_loss\n",
        "    }\n",
        "\n",
        "    # Predict on the validation data\n",
        "    val_predictions = model.predict(val_generator)\n",
        "    val_pred_classes = np.argmax(val_predictions, axis=1)\n",
        "\n",
        "    # True labels\n",
        "    true_classes = val_generator.classes\n",
        "    class_labels = list(val_generator.class_indices.keys())\n",
        "\n",
        "    # Classification report\n",
        "    report = classification_report(true_classes, val_pred_classes, target_names=class_labels)\n",
        "    print(f\"Classification Report for {model_name}:\\n\", report)\n",
        "\n",
        "    # Precision, Recall, F1 Score calculation\n",
        "    precision = precision_score(true_classes, val_pred_classes, average='weighted')\n",
        "    recall = recall_score(true_classes, val_pred_classes, average='weighted')\n",
        "    f1 = f1_score(true_classes, val_pred_classes, average='weighted')\n",
        "\n",
        "    # Update results with precision, recall, F1\n",
        "    results[model_name].update({\n",
        "        \"Precision\": precision,\n",
        "        \"Recall\": recall,\n",
        "        \"F1 Score\": f1\n",
        "    })"
      ],
      "metadata": {
        "colab": {
          "base_uri": "https://localhost:8080/"
        },
        "id": "-wXSaSzjVOXO",
        "outputId": "70acee75-9db4-4052-cd49-f12326b14467"
      },
      "execution_count": null,
      "outputs": [
        {
          "output_type": "stream",
          "name": "stdout",
          "text": [
            "Epoch 1/5\n",
            "\u001b[1m126/126\u001b[0m \u001b[32m━━━━━━━━━━━━━━━━━━━━\u001b[0m\u001b[37m\u001b[0m \u001b[1m89s\u001b[0m 652ms/step - accuracy: 0.6131 - loss: 1.3161 - val_accuracy: 0.6565 - val_loss: 1.0949\n",
            "Epoch 2/5\n",
            "\u001b[1m126/126\u001b[0m \u001b[32m━━━━━━━━━━━━━━━━━━━━\u001b[0m\u001b[37m\u001b[0m \u001b[1m136s\u001b[0m 622ms/step - accuracy: 0.6910 - loss: 1.0663 - val_accuracy: 0.6584 - val_loss: 1.0449\n",
            "Epoch 3/5\n",
            "\u001b[1m126/126\u001b[0m \u001b[32m━━━━━━━━━━━━━━━━━━━━\u001b[0m\u001b[37m\u001b[0m \u001b[1m84s\u001b[0m 638ms/step - accuracy: 0.6808 - loss: 1.0590 - val_accuracy: 0.6634 - val_loss: 1.0124\n",
            "Epoch 4/5\n",
            "\u001b[1m126/126\u001b[0m \u001b[32m━━━━━━━━━━━━━━━━━━━━\u001b[0m\u001b[37m\u001b[0m \u001b[1m82s\u001b[0m 618ms/step - accuracy: 0.6837 - loss: 1.0166 - val_accuracy: 0.6792 - val_loss: 0.9901\n",
            "Epoch 5/5\n",
            "\u001b[1m126/126\u001b[0m \u001b[32m━━━━━━━━━━━━━━━━━━━━\u001b[0m\u001b[37m\u001b[0m \u001b[1m87s\u001b[0m 651ms/step - accuracy: 0.7040 - loss: 0.9591 - val_accuracy: 0.6811 - val_loss: 0.9745\n",
            "\u001b[1m32/32\u001b[0m \u001b[32m━━━━━━━━━━━━━━━━━━━━\u001b[0m\u001b[37m\u001b[0m \u001b[1m9s\u001b[0m 292ms/step - accuracy: 0.6984 - loss: 0.9469\n",
            "\u001b[1m32/32\u001b[0m \u001b[32m━━━━━━━━━━━━━━━━━━━━\u001b[0m\u001b[37m\u001b[0m \u001b[1m8s\u001b[0m 228ms/step\n"
          ]
        },
        {
          "output_type": "stream",
          "name": "stderr",
          "text": [
            "/usr/local/lib/python3.10/dist-packages/sklearn/metrics/_classification.py:1471: UndefinedMetricWarning: Precision and F-score are ill-defined and being set to 0.0 in labels with no predicted samples. Use `zero_division` parameter to control this behavior.\n",
            "  _warn_prf(average, modifier, msg_start, len(result))\n",
            "/usr/local/lib/python3.10/dist-packages/sklearn/metrics/_classification.py:1471: UndefinedMetricWarning: Precision and F-score are ill-defined and being set to 0.0 in labels with no predicted samples. Use `zero_division` parameter to control this behavior.\n",
            "  _warn_prf(average, modifier, msg_start, len(result))\n",
            "/usr/local/lib/python3.10/dist-packages/sklearn/metrics/_classification.py:1471: UndefinedMetricWarning: Precision and F-score are ill-defined and being set to 0.0 in labels with no predicted samples. Use `zero_division` parameter to control this behavior.\n",
            "  _warn_prf(average, modifier, msg_start, len(result))\n",
            "/usr/local/lib/python3.10/dist-packages/sklearn/metrics/_classification.py:1471: UndefinedMetricWarning: Precision is ill-defined and being set to 0.0 in labels with no predicted samples. Use `zero_division` parameter to control this behavior.\n",
            "  _warn_prf(average, modifier, msg_start, len(result))\n"
          ]
        },
        {
          "output_type": "stream",
          "name": "stdout",
          "text": [
            "Classification Report for VGG16:\n",
            "               precision    recall  f1-score   support\n",
            "\n",
            "       akiec       0.00      0.00      0.00        26\n",
            "         bcc       0.00      0.00      0.00        49\n",
            "         bkl       0.12      0.02      0.03       108\n",
            "          df       0.00      0.00      0.00        11\n",
            "         mel       0.21      0.11      0.14       139\n",
            "          nv       0.66      0.92      0.77       665\n",
            "        vasc       0.00      0.00      0.00        15\n",
            "\n",
            "    accuracy                           0.62      1013\n",
            "   macro avg       0.14      0.15      0.14      1013\n",
            "weighted avg       0.48      0.62      0.53      1013\n",
            "\n",
            "Epoch 1/5\n",
            "\u001b[1m126/126\u001b[0m \u001b[32m━━━━━━━━━━━━━━━━━━━━\u001b[0m\u001b[37m\u001b[0m \u001b[1m104s\u001b[0m 706ms/step - accuracy: 0.5659 - loss: 1.4822 - val_accuracy: 0.6565 - val_loss: 1.1630\n",
            "Epoch 2/5\n",
            "\u001b[1m126/126\u001b[0m \u001b[32m━━━━━━━━━━━━━━━━━━━━\u001b[0m\u001b[37m\u001b[0m \u001b[1m129s\u001b[0m 628ms/step - accuracy: 0.6882 - loss: 1.1750 - val_accuracy: 0.6565 - val_loss: 1.1796\n",
            "Epoch 3/5\n",
            "\u001b[1m126/126\u001b[0m \u001b[32m━━━━━━━━━━━━━━━━━━━━\u001b[0m\u001b[37m\u001b[0m \u001b[1m82s\u001b[0m 618ms/step - accuracy: 0.6764 - loss: 1.1636 - val_accuracy: 0.6565 - val_loss: 1.1860\n",
            "Epoch 4/5\n",
            "\u001b[1m126/126\u001b[0m \u001b[32m━━━━━━━━━━━━━━━━━━━━\u001b[0m\u001b[37m\u001b[0m \u001b[1m145s\u001b[0m 650ms/step - accuracy: 0.6866 - loss: 1.1317 - val_accuracy: 0.6565 - val_loss: 1.1422\n",
            "Epoch 5/5\n",
            "\u001b[1m126/126\u001b[0m \u001b[32m━━━━━━━━━━━━━━━━━━━━\u001b[0m\u001b[37m\u001b[0m \u001b[1m140s\u001b[0m 620ms/step - accuracy: 0.6886 - loss: 1.1151 - val_accuracy: 0.6565 - val_loss: 1.1586\n",
            "\u001b[1m32/32\u001b[0m \u001b[32m━━━━━━━━━━━━━━━━━━━━\u001b[0m\u001b[37m\u001b[0m \u001b[1m9s\u001b[0m 285ms/step - accuracy: 0.6542 - loss: 1.1555\n",
            "\u001b[1m32/32\u001b[0m \u001b[32m━━━━━━━━━━━━━━━━━━━━\u001b[0m\u001b[37m\u001b[0m \u001b[1m15s\u001b[0m 359ms/step\n",
            "Classification Report for ResNet50:\n",
            "               precision    recall  f1-score   support\n",
            "\n",
            "       akiec       0.00      0.00      0.00        26\n",
            "         bcc       0.00      0.00      0.00        49\n",
            "         bkl       0.00      0.00      0.00       108\n",
            "          df       0.00      0.00      0.00        11\n",
            "         mel       0.00      0.00      0.00       139\n",
            "          nv       0.66      1.00      0.79       665\n",
            "        vasc       0.00      0.00      0.00        15\n",
            "\n",
            "    accuracy                           0.66      1013\n",
            "   macro avg       0.09      0.14      0.11      1013\n",
            "weighted avg       0.43      0.66      0.52      1013\n",
            "\n"
          ]
        },
        {
          "output_type": "stream",
          "name": "stderr",
          "text": [
            "/usr/local/lib/python3.10/dist-packages/sklearn/metrics/_classification.py:1471: UndefinedMetricWarning: Precision and F-score are ill-defined and being set to 0.0 in labels with no predicted samples. Use `zero_division` parameter to control this behavior.\n",
            "  _warn_prf(average, modifier, msg_start, len(result))\n",
            "/usr/local/lib/python3.10/dist-packages/sklearn/metrics/_classification.py:1471: UndefinedMetricWarning: Precision and F-score are ill-defined and being set to 0.0 in labels with no predicted samples. Use `zero_division` parameter to control this behavior.\n",
            "  _warn_prf(average, modifier, msg_start, len(result))\n",
            "/usr/local/lib/python3.10/dist-packages/sklearn/metrics/_classification.py:1471: UndefinedMetricWarning: Precision and F-score are ill-defined and being set to 0.0 in labels with no predicted samples. Use `zero_division` parameter to control this behavior.\n",
            "  _warn_prf(average, modifier, msg_start, len(result))\n",
            "/usr/local/lib/python3.10/dist-packages/sklearn/metrics/_classification.py:1471: UndefinedMetricWarning: Precision is ill-defined and being set to 0.0 in labels with no predicted samples. Use `zero_division` parameter to control this behavior.\n",
            "  _warn_prf(average, modifier, msg_start, len(result))\n"
          ]
        },
        {
          "output_type": "stream",
          "name": "stdout",
          "text": [
            "Epoch 1/5\n",
            "\u001b[1m126/126\u001b[0m \u001b[32m━━━━━━━━━━━━━━━━━━━━\u001b[0m\u001b[37m\u001b[0m \u001b[1m109s\u001b[0m 726ms/step - accuracy: 0.6342 - loss: 1.2120 - val_accuracy: 0.6772 - val_loss: 0.9390\n",
            "Epoch 2/5\n",
            "\u001b[1m126/126\u001b[0m \u001b[32m━━━━━━━━━━━━━━━━━━━━\u001b[0m\u001b[37m\u001b[0m \u001b[1m125s\u001b[0m 641ms/step - accuracy: 0.7152 - loss: 0.8656 - val_accuracy: 0.6861 - val_loss: 0.9182\n",
            "Epoch 3/5\n",
            "\u001b[1m126/126\u001b[0m \u001b[32m━━━━━━━━━━━━━━━━━━━━\u001b[0m\u001b[37m\u001b[0m \u001b[1m83s\u001b[0m 633ms/step - accuracy: 0.7272 - loss: 0.8256 - val_accuracy: 0.6851 - val_loss: 0.8687\n",
            "Epoch 4/5\n",
            "\u001b[1m126/126\u001b[0m \u001b[32m━━━━━━━━━━━━━━━━━━━━\u001b[0m\u001b[37m\u001b[0m \u001b[1m142s\u001b[0m 633ms/step - accuracy: 0.7317 - loss: 0.7831 - val_accuracy: 0.7038 - val_loss: 0.8421\n",
            "Epoch 5/5\n",
            "\u001b[1m126/126\u001b[0m \u001b[32m━━━━━━━━━━━━━━━━━━━━\u001b[0m\u001b[37m\u001b[0m \u001b[1m82s\u001b[0m 627ms/step - accuracy: 0.7378 - loss: 0.7565 - val_accuracy: 0.6960 - val_loss: 0.8489\n",
            "\u001b[1m32/32\u001b[0m \u001b[32m━━━━━━━━━━━━━━━━━━━━\u001b[0m\u001b[37m\u001b[0m \u001b[1m7s\u001b[0m 228ms/step - accuracy: 0.6975 - loss: 0.8468\n",
            "\u001b[1m32/32\u001b[0m \u001b[32m━━━━━━━━━━━━━━━━━━━━\u001b[0m\u001b[37m\u001b[0m \u001b[1m17s\u001b[0m 391ms/step\n",
            "Classification Report for InceptionV3:\n",
            "               precision    recall  f1-score   support\n",
            "\n",
            "       akiec       0.00      0.00      0.00        26\n",
            "         bcc       0.14      0.10      0.12        49\n",
            "         bkl       0.14      0.09      0.11       108\n",
            "          df       0.00      0.00      0.00        11\n",
            "         mel       0.27      0.02      0.04       139\n",
            "          nv       0.67      0.90      0.77       665\n",
            "        vasc       0.00      0.00      0.00        15\n",
            "\n",
            "    accuracy                           0.61      1013\n",
            "   macro avg       0.18      0.16      0.15      1013\n",
            "weighted avg       0.50      0.61      0.53      1013\n",
            "\n"
          ]
        },
        {
          "output_type": "stream",
          "name": "stderr",
          "text": [
            "/usr/local/lib/python3.10/dist-packages/sklearn/metrics/_classification.py:1471: UndefinedMetricWarning: Precision and F-score are ill-defined and being set to 0.0 in labels with no predicted samples. Use `zero_division` parameter to control this behavior.\n",
            "  _warn_prf(average, modifier, msg_start, len(result))\n",
            "/usr/local/lib/python3.10/dist-packages/sklearn/metrics/_classification.py:1471: UndefinedMetricWarning: Precision and F-score are ill-defined and being set to 0.0 in labels with no predicted samples. Use `zero_division` parameter to control this behavior.\n",
            "  _warn_prf(average, modifier, msg_start, len(result))\n",
            "/usr/local/lib/python3.10/dist-packages/sklearn/metrics/_classification.py:1471: UndefinedMetricWarning: Precision and F-score are ill-defined and being set to 0.0 in labels with no predicted samples. Use `zero_division` parameter to control this behavior.\n",
            "  _warn_prf(average, modifier, msg_start, len(result))\n",
            "/usr/local/lib/python3.10/dist-packages/sklearn/metrics/_classification.py:1471: UndefinedMetricWarning: Precision is ill-defined and being set to 0.0 in labels with no predicted samples. Use `zero_division` parameter to control this behavior.\n",
            "  _warn_prf(average, modifier, msg_start, len(result))\n"
          ]
        }
      ]
    },
    {
      "cell_type": "markdown",
      "source": [
        "#Plot Training History (Accuracy)"
      ],
      "metadata": {
        "id": "f3aCYNp9VV-y"
      }
    },
    {
      "cell_type": "code",
      "source": [
        "# Plot Training History (Accuracy)\n",
        "plt.figure(figsize=(12, 6))\n",
        "for model_name, history in histories.items():\n",
        "    plt.plot(history.history['accuracy'], label=f'{model_name} Train')\n",
        "    plt.plot(history.history['val_accuracy'], label=f'{model_name} Val')\n",
        "\n",
        "plt.title('Model Accuracy')\n",
        "plt.ylabel('Accuracy')\n",
        "plt.xlabel('Epoch')\n",
        "plt.legend()\n",
        "plt.show()"
      ],
      "metadata": {
        "colab": {
          "base_uri": "https://localhost:8080/",
          "height": 357
        },
        "id": "KAxoXpMdVUD_",
        "outputId": "6d8e9349-f29b-4813-d22d-2568e22d525e"
      },
      "execution_count": null,
      "outputs": [
        {
          "output_type": "display_data",
          "data": {
            "text/plain": [
              "<Figure size 1200x600 with 1 Axes>"
            ],
            "image/png": "[encoded data removed]"
          },
          "metadata": {}
        }
      ]
    },
    {
      "cell_type": "markdown",
      "source": [
        "# Print out final results\n"
      ],
      "metadata": {
        "id": "y8yFIATgVYP9"
      }
    },
    {
      "cell_type": "code",
      "source": [
        "# Print out final results\n",
        "print(\"Final Results Summary:\")\n",
        "for model_name, metrics in results.items():\n",
        "    print(f\"\\nModel: {model_name}\")\n",
        "    for metric, value in metrics.items():\n",
        "        print(f\"{metric}: {value}\")"
      ],
      "metadata": {
        "colab": {
          "base_uri": "https://localhost:8080/"
        },
        "id": "nvEbOViGVa9O",
        "outputId": "398620c7-eacb-4a5a-ddc5-4723ddd3dedb"
      },
      "execution_count": null,
      "outputs": [
        {
          "output_type": "stream",
          "name": "stdout",
          "text": [
            "Final Results Summary:\n",
            "\n",
            "Model: VGG16\n",
            "Accuracy: 0.6811451315879822\n",
            "Loss: 0.9744730591773987\n",
            "Precision: 0.4782496979853673\n",
            "Recall: 0.6238894373149062\n",
            "F1 Score: 0.5303294299308992\n",
            "\n",
            "Model: ResNet50\n",
            "Accuracy: 0.6564659476280212\n",
            "Loss: 1.1585967540740967\n",
            "Precision: 0.4309475339831938\n",
            "Recall: 0.6564659427443238\n",
            "F1 Score: 0.5203216351906739\n",
            "\n",
            "Model: InceptionV3\n",
            "Accuracy: 0.6959525942802429\n",
            "Loss: 0.8489340543746948\n",
            "Precision: 0.5001234892491297\n",
            "Recall: 0.6090819348469891\n",
            "F1 Score: 0.5280732345295913\n"
          ]
        }
      ]
    },
    {
      "cell_type": "code",
      "source": [],
      "metadata": {
        "id": "k5Ba8ZBtjKrY"
      },
      "execution_count": null,
      "outputs": []
    }
  ]
}